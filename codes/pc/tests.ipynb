{
 "cells": [
  {
   "cell_type": "code",
   "execution_count": 1,
   "metadata": {},
   "outputs": [
    {
     "name": "stdout",
     "output_type": "stream",
     "text": [
      "512\n",
      "259\n"
     ]
    }
   ],
   "source": [
    "import pickle\n",
    "import sys\n",
    "\n",
    "\n",
    "a = [10**400,500.00,500.00,500.00,10000.00,True,True,True,True,True]\n",
    "\n",
    "_ = pickle.dumps(a)\n",
    "\n",
    "print(2**9)\n",
    "print(sys.getsizeof(_))"
   ]
  },
  {
   "cell_type": "code",
   "execution_count": 17,
   "metadata": {},
   "outputs": [
    {
     "name": "stdout",
     "output_type": "stream",
     "text": [
      "b'\\x80\\x04\\x95\\x0e\\x00\\x00\\x00\\x00\\x00\\x00\\x00]\\x94(J\\x00\\x00\\x00\\x01K\\x02K\\x03e.'\n",
      "[16777216, 2, 3]\n",
      "58\n"
     ]
    }
   ],
   "source": [
    "import pickle\n",
    "import sys\n",
    "\n",
    "a = [2**24,2,3]\n",
    "\n",
    "b = pickle.dumps(a)\n",
    "\n",
    "print(b)\n",
    "\n",
    "c = pickle.loads(b)\n",
    "\n",
    "print(c)\n",
    "print(sys.getsizeof(b))"
   ]
  },
  {
   "cell_type": "code",
   "execution_count": 223,
   "metadata": {},
   "outputs": [
    {
     "name": "stdout",
     "output_type": "stream",
     "text": [
      "[b'\\x7f\\xff\\xff', b'\\x00\\x00\\x02', b'\\x00\\x00\\x03']\n",
      "\\x7f\\xff\\xff\\x00\\x00\\x02\\x00\\x00\\x03\n",
      "\\x7f\\xff\\xff\n",
      "b'\\\\x7f\\\\xff\\\\xff'\n",
      "b'\\\\x7f\\\\xff\\\\xff'\n"
     ]
    }
   ],
   "source": [
    "import numpy as np\n",
    "\n",
    "g = np.log2(9*1000*60)\n",
    "\n",
    "# g = (2**24)/60000\n",
    "\n",
    "k = [2**23-1,2,3]\n",
    "\n",
    "h = []\n",
    "\n",
    "for i in range(len(k)):\n",
    "    h.append(k[i].to_bytes(3,'big', signed=True))\n",
    "\n",
    "\n",
    "# h = (7).to_bytes(20,'big')\n",
    "\n",
    "print(h)\n",
    "\n",
    "h=str(h)\n",
    "\n",
    "\n",
    "\n",
    "k = 0\n",
    "\n",
    "# for i in [0, 15, 16, 17, 18, 19 , 32, 33]:\n",
    "#     h =h.replace(h[i - k],\"\")\n",
    "#     k += 1\n",
    "\n",
    "j = h[3:15] + h [20:32] + h[37:49]\n",
    "\n",
    "print(j)\n",
    "\n",
    "a = j[0:12]\n",
    "\n",
    "print(a)\n",
    "\n",
    "b = bytes(a,'utf-8')\n",
    "\n",
    "print(b)\n",
    "\n",
    "c = str(b)\n",
    "\n",
    "print(c)\n",
    "\n",
    "\n",
    "\n",
    "\n",
    "\n",
    "\n",
    "\n",
    "\n",
    "\n"
   ]
  }
 ],
 "metadata": {
  "kernelspec": {
   "display_name": "Python 3",
   "language": "python",
   "name": "python3"
  },
  "language_info": {
   "codemirror_mode": {
    "name": "ipython",
    "version": 3
   },
   "file_extension": ".py",
   "mimetype": "text/x-python",
   "name": "python",
   "nbconvert_exporter": "python",
   "pygments_lexer": "ipython3",
   "version": "3.10.9 (tags/v3.10.9:1dd9be6, Dec  6 2022, 20:01:21) [MSC v.1934 64 bit (AMD64)]"
  },
  "orig_nbformat": 4,
  "vscode": {
   "interpreter": {
    "hash": "cc2a200e1e6dab10c4dc3986f0e7a998296447c993c26561a1bd050a849d8214"
   }
  }
 },
 "nbformat": 4,
 "nbformat_minor": 2
}
